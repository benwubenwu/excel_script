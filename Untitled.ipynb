{
 "cells": [
  {
   "cell_type": "code",
   "execution_count": 1,
   "metadata": {},
   "outputs": [],
   "source": [
    "import pandas as pd\n",
    "import numpy as np\n",
    "import xlrd"
   ]
  },
  {
   "cell_type": "code",
   "execution_count": 5,
   "metadata": {},
   "outputs": [],
   "source": [
    "cprot = pd.read_excel(\n",
    "    'proteomics data/colon tumors/2017-03-19_Haigis_5v5_Pro copy.xlsx', 'Protein', index_col=None, na_values=['NA'])"
   ]
  },
  {
   "cell_type": "code",
   "execution_count": 6,
   "metadata": {},
   "outputs": [],
   "source": [
    "new_cprot = cprot[~cprot['Protein Id'].str.contains('##', na=False)]"
   ]
  },
  {
   "cell_type": "code",
   "execution_count": 7,
   "metadata": {},
   "outputs": [
    {
     "name": "stdout",
     "output_type": "stream",
     "text": [
      "                  Protein Id Gene Symbol  \\\n",
      "0                        NaN         NaN   \n",
      "1                        NaN         NaN   \n",
      "2     tr|E9QM38|E9QM38_MOUSE     Slc12a2   \n",
      "3      sp|Q91V81|RBM42_MOUSE       Rbm42   \n",
      "4      sp|P60330|ESPL1_MOUSE       Espl1   \n",
      "...                      ...         ...   \n",
      "8181   sp|Q69ZQ1|K1161_MOUSE    Kiaa1161   \n",
      "8183  tr|Q6T5E4|Q6T5E4_MOUSE       Gcnt2   \n",
      "8184   sp|Q9Z2Y2|B4GT2_MOUSE     B4galt2   \n",
      "8185   sp|Q8VIK2|M17L2_MOUSE     Mpv17l2   \n",
      "8186   sp|Q9CYH5|GFOD2_MOUSE       Gfod2   \n",
      "\n",
      "                                            Description  Number of peptides  \\\n",
      "0                                                   NaN                 NaN   \n",
      "1                                                   NaN                 NaN   \n",
      "2        E9QM38_MOUSE Solute carrier family 12 member 2                52.0   \n",
      "3                    RBM42_MOUSE RNA-binding protein 42                14.0   \n",
      "4                                   ESPL1_MOUSE Separin                 1.0   \n",
      "...                                                 ...                 ...   \n",
      "8181  K1161_MOUSE Uncharacterized family 31 glucosid...                 1.0   \n",
      "8183  Q6T5E4_MOUSE Glucosaminyl (N-acetyl) transfera...                 1.0   \n",
      "8184       B4GT2_MOUSE Beta-1,4-galactosyltransferase 2                 1.0   \n",
      "8185                   M17L2_MOUSE Mpv17-like protein 2                 1.0   \n",
      "8186  GFOD2_MOUSE Glucose-fructose oxidoreductase do...                 1.0   \n",
      "\n",
      "     RAW sum signal-to-noise Unnamed: 5 Unnamed: 6 Unnamed: 7 Unnamed: 8  \\\n",
      "0                   control1   control2   control3   control4   control5   \n",
      "1                        126       127n       127c       128n       128c   \n",
      "2                    10796.9    11944.3      12111    9754.99    9562.19   \n",
      "3                    2040.33    2165.52    2390.64    2097.19    2037.83   \n",
      "4                    77.9906    67.0416      76.48    78.9651    66.6479   \n",
      "...                      ...        ...        ...        ...        ...   \n",
      "8181                 210.444    193.092    200.677    176.301    165.233   \n",
      "8183                 148.615    151.866    154.309    132.184    143.114   \n",
      "8184                 175.524     173.74    185.936    188.393    167.641   \n",
      "8185                 142.153     135.87     148.86    150.095     135.85   \n",
      "8186                 38.0322    49.1867    41.5248    40.6843     53.557   \n",
      "\n",
      "     Unnamed: 9  ... Unnamed: 28 Unnamed: 29 Unnamed: 30 Unnamed: 31  \\\n",
      "0         KRAS1  ...    control5       KRAS1       KRAS2       KRAS3   \n",
      "1          129n  ...        128c        129n        129c        130n   \n",
      "2        9370.8  ...     9.16823      9.8191     10.1647     11.0605   \n",
      "3       1859.15  ...     9.75311     9.72423     9.82329      10.776   \n",
      "4       66.0278  ...     9.14518     9.90144     10.6113     9.88502   \n",
      "...         ...  ...         ...         ...         ...         ...   \n",
      "8181    118.263  ...     10.5837     8.27856     7.28689     8.16051   \n",
      "8183    183.705  ...     8.23468     11.5518     12.2875     12.8814   \n",
      "8184    181.784  ...     9.17082      10.868     10.5911     10.3257   \n",
      "8185    124.644  ...     9.82735     9.85407     9.73776     10.1109   \n",
      "8186    42.5345  ...     12.8326      11.138     8.16702     11.3973   \n",
      "\n",
      "     Unnamed: 32 Unnamed: 33 Unnamed: 34 Unnamed: 35 Unnamed: 36 Unnamed: 37  \n",
      "0          KRAS4       KRAS5         NaN         NaN         NaN         NaN  \n",
      "1           130c         131         NaN         NaN         NaN         NaN  \n",
      "2        9.06996     9.00186         NaN         NaN         NaN         NaN  \n",
      "3        10.2955     9.06125         NaN         NaN         NaN         NaN  \n",
      "4        9.96763     10.2984         NaN         NaN         NaN         NaN  \n",
      "...          ...         ...         ...         ...         ...         ...  \n",
      "8181     8.77948     8.15786         NaN         NaN         NaN         NaN  \n",
      "8183      11.217     10.8873         NaN         NaN         NaN         NaN  \n",
      "8184     9.72341     10.7222         NaN         NaN         NaN         NaN  \n",
      "8185     10.2609     9.51447         NaN         NaN         NaN         NaN  \n",
      "8186       8.552     8.27955         NaN         NaN         NaN         NaN  \n",
      "\n",
      "[8122 rows x 38 columns]\n"
     ]
    }
   ],
   "source": [
    "print(new_cprot)"
   ]
  },
  {
   "cell_type": "code",
   "execution_count": 11,
   "metadata": {},
   "outputs": [
    {
     "data": {
      "text/plain": [
       "Protein Id                                                                            sp|Q9R1T4|SEPT6_MOUSE\n",
       "Gene Symbol                                                                             2017-09-06 00:00:00\n",
       "Description                                                                            SEPT6_MOUSE Septin-6\n",
       "Number of peptides                                                                                        4\n",
       "RAW sum signal-to-noise                                                                             526.778\n",
       "Unnamed: 5                                                                                          546.664\n",
       "Unnamed: 6                                                                                          580.977\n",
       "Unnamed: 7                                                                                          655.921\n",
       "Unnamed: 8                                                                                          632.435\n",
       "Unnamed: 9                                                                                           485.71\n",
       "Unnamed: 10                                                                                         502.994\n",
       "Unnamed: 11                                                                                         549.587\n",
       "Unnamed: 12                                                                                         606.021\n",
       "Unnamed: 13                                                                                         492.979\n",
       "Normalized sum signal-to-noise                                                                      535.186\n",
       "Unnamed: 15                                                                                         567.305\n",
       "Unnamed: 16                                                                                         580.977\n",
       "Unnamed: 17                                                                                         668.001\n",
       "Unnamed: 18                                                                                         660.084\n",
       "Unnamed: 19                                                                                         554.021\n",
       "Unnamed: 20                                                                                         535.465\n",
       "Unnamed: 21                                                                                         603.206\n",
       "Unnamed: 22                                                                                         621.094\n",
       "Unnamed: 23                                                                                         661.858\n",
       "TMT relative abundance (scaled, i.e., sum across 11 channels for each protein=100)                  8.93884\n",
       "Unnamed: 25                                                                                          9.4753\n",
       "Unnamed: 26                                                                                         9.70366\n",
       "Unnamed: 27                                                                                         11.1572\n",
       "Unnamed: 28                                                                                         11.0249\n",
       "Unnamed: 29                                                                                         9.25342\n",
       "Unnamed: 30                                                                                          8.9435\n",
       "Unnamed: 31                                                                                         10.0749\n",
       "Unnamed: 32                                                                                         10.3737\n",
       "Unnamed: 33                                                                                         11.0546\n",
       "Unnamed: 34                                                                                             NaN\n",
       "Unnamed: 35                                                                                             NaN\n",
       "Unnamed: 36                                                                                             NaN\n",
       "Unnamed: 37                                                                                             NaN\n",
       "Name: 18, dtype: object"
      ]
     },
     "execution_count": 11,
     "metadata": {},
     "output_type": "execute_result"
    }
   ],
   "source": [
    "new_cprot.loc[18]"
   ]
  },
  {
   "cell_type": "code",
   "execution_count": 14,
   "metadata": {},
   "outputs": [],
   "source": [
    "new_cprot.Date = pd.to_datetime(new_cprot.Date,dayfirst=True)"
   ]
  },
  {
   "cell_type": "code",
   "execution_count": 16,
   "metadata": {},
   "outputs": [
    {
     "data": {
      "text/plain": [
       "Protein Id                                                                            sp|Q9R1T4|SEPT6_MOUSE\n",
       "Gene Symbol                                                                             2017-09-06 00:00:00\n",
       "Description                                                                            SEPT6_MOUSE Septin-6\n",
       "Number of peptides                                                                                        4\n",
       "RAW sum signal-to-noise                                                                             526.778\n",
       "Unnamed: 5                                                                                          546.664\n",
       "Unnamed: 6                                                                                          580.977\n",
       "Unnamed: 7                                                                                          655.921\n",
       "Unnamed: 8                                                                                          632.435\n",
       "Unnamed: 9                                                                                           485.71\n",
       "Unnamed: 10                                                                                         502.994\n",
       "Unnamed: 11                                                                                         549.587\n",
       "Unnamed: 12                                                                                         606.021\n",
       "Unnamed: 13                                                                                         492.979\n",
       "Normalized sum signal-to-noise                                                                      535.186\n",
       "Unnamed: 15                                                                                         567.305\n",
       "Unnamed: 16                                                                                         580.977\n",
       "Unnamed: 17                                                                                         668.001\n",
       "Unnamed: 18                                                                                         660.084\n",
       "Unnamed: 19                                                                                         554.021\n",
       "Unnamed: 20                                                                                         535.465\n",
       "Unnamed: 21                                                                                         603.206\n",
       "Unnamed: 22                                                                                         621.094\n",
       "Unnamed: 23                                                                                         661.858\n",
       "TMT relative abundance (scaled, i.e., sum across 11 channels for each protein=100)                  8.93884\n",
       "Unnamed: 25                                                                                          9.4753\n",
       "Unnamed: 26                                                                                         9.70366\n",
       "Unnamed: 27                                                                                         11.1572\n",
       "Unnamed: 28                                                                                         11.0249\n",
       "Unnamed: 29                                                                                         9.25342\n",
       "Unnamed: 30                                                                                          8.9435\n",
       "Unnamed: 31                                                                                         10.0749\n",
       "Unnamed: 32                                                                                         10.3737\n",
       "Unnamed: 33                                                                                         11.0546\n",
       "Unnamed: 34                                                                                             NaN\n",
       "Unnamed: 35                                                                                             NaN\n",
       "Unnamed: 36                                                                                             NaN\n",
       "Unnamed: 37                                                                                             NaN\n",
       "Name: 18, dtype: object"
      ]
     },
     "execution_count": 16,
     "metadata": {},
     "output_type": "execute_result"
    }
   ],
   "source": [
    "new_cprot.loc[18]"
   ]
  },
  {
   "cell_type": "code",
   "execution_count": null,
   "metadata": {},
   "outputs": [],
   "source": []
  }
 ],
 "metadata": {
  "kernelspec": {
   "display_name": "Python 3",
   "language": "python",
   "name": "python3"
  },
  "language_info": {
   "codemirror_mode": {
    "name": "ipython",
    "version": 3
   },
   "file_extension": ".py",
   "mimetype": "text/x-python",
   "name": "python",
   "nbconvert_exporter": "python",
   "pygments_lexer": "ipython3",
   "version": "3.8.0"
  }
 },
 "nbformat": 4,
 "nbformat_minor": 4
}
